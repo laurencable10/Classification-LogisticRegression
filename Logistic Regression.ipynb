{
 "cells": [
  {
   "cell_type": "markdown",
   "metadata": {},
   "source": [
    "# Logistic Regression\n",
    "\n",
    "\n",
    "## _Introduction_\n",
    "- Logistic Regression is a famous classifier still used frequently despite its age. While it is a regression, it operates as a classifier by estimating probabilities of class membership. \n",
    "- While it can be generalized to multiple classes, Logistic Regression is primarily used to predict binary outcomes with two classes such as :\n",
    "    - Whether or not a user will purchase a product given their demographic characteristics\n",
    "    - Diagnosing a patient with a disease or not, given their symptoms\n",
    "    - Predicting whether a person will default on a loan and with what likelihood\n",
    "    - The likelihood of a student being admitted to a college, given their scores and the characteristics of the college (this notebook)"
   ]
  },
  {
   "cell_type": "code",
   "execution_count": 72,
   "metadata": {
    "collapsed": true
   },
   "outputs": [],
   "source": [
    "# Data Mining\n",
    "import pandas as pd\n",
    "import json\n",
    "import numpy as np\n",
    "from scipy import stats\n",
    "\n",
    "# Modeling\n",
    "from sklearn.linear_model import LogisticRegression, LinearRegression\n",
    "import statsmodels.formula.api as sm\n",
    "\n",
    "# Visualization\n",
    "import seaborn as sns\n",
    "import matplotlib.pyplot as plt\n",
    "%matplotlib inline\n",
    "colors = {'blue': '#729ECE','brown': '#A8786E','green': '#67BF5C','grey': '#A2A2A2','orange': '#FF9E4A',\n",
    "          'pink': '#ED97CA','purple': '#AD8BC9','red': '#ED665D','teal': '#6DCCDA','yellow': '#CDCC5D'}\n",
    "\n",
    "# set max printout options for pandas:\n",
    "pd.options.display.max_columns = 50\n",
    "pd.options.display.max_colwidth = 300"
   ]
  },
  {
   "cell_type": "markdown",
   "metadata": {},
   "source": [
    "# Predicting Binary Classes \n",
    "\n",
    "### _Linear Regression Models AND Logsitc Regression Models :_\n",
    "  - Construct formulas with predictor variables and coefficients to estimate the expected value of the target variable \n",
    "  - Can be solved by the minimization of the sum of squared errors \n",
    "### _However..._ \n",
    "- ** Linear Regression ** predicts targets that fall in **[-infinity,infinity]** range\n",
    "- **Logistic Regression** predicts binary classes whose targets fall within **[0,1]** range and represent probabilities of class membership\n",
    "\n",
    "\n",
    "## Logit Link Functions\n",
    "\n",
    "- In order to solve for binary classes, **Logit Link Functions** must be applied to both sides of model equation that transform regression to  : \n",
    "   - Predict any negative or positive number\n",
    "   - Present predicted values as probability \n",
    "   - Constrain predicted values to desired range [0,1]\n",
    "\n",
    "\n",
    "- Technically speaking, the logit link function is the combination of converting the probability to an odds ratio and taking the logarithms of that. By inverting the logit, the regression equation can solve explicitly for probability, detailed in the three steps below:\n",
    "   > ### 1) Converting Probabilities to Odds Ratios \n",
    "        > - **Odds Ratios** are measures of how many times more likely it is than the inverse case, derived from the formula above (p = probability).\n",
    "        > - Range of predicted values becomes **[0,infinity]**\n",
    "        >  $$\\text{odds ratio}(p) = \\frac{p}{1-p}$$\n",
    "   \n",
    "  > ### 2) Converting Odds Ratios to Log-Odds\n",
    "    - **Log-Odds** are the natural logarithms of odds ratios. Taking the natural logarithm of a fraction will result in a negative number.\n",
    "    - Range of predicted values becomes **[-infinity, infinity]**\n",
    "\n",
    "  > ### 3) Inverting Log-Odds with Logistic Function\n",
    "    - The **Logistic Function** is the inverse of the logit. \n",
    "    - Regression equation transformed to **solve for probabilities** "
   ]
  },
  {
   "cell_type": "markdown",
   "metadata": {},
   "source": [
    "# Predicting College Admittance \n",
    "### _Loading Admissions Data_\n",
    "> - *admit*: \n",
    "    indicaties whether student was admitted (binary- 0 or 1)\n",
    "> - *gre*: student's GRE score\n",
    "> - *gpa*: student's GPA\n",
    "> - *prestige*: rating for college's prestige"
   ]
  },
  {
   "cell_type": "code",
   "execution_count": 73,
   "metadata": {},
   "outputs": [
    {
     "data": {
      "text/html": [
       "<div>\n",
       "<style>\n",
       "    .dataframe thead tr:only-child th {\n",
       "        text-align: right;\n",
       "    }\n",
       "\n",
       "    .dataframe thead th {\n",
       "        text-align: left;\n",
       "    }\n",
       "\n",
       "    .dataframe tbody tr th {\n",
       "        vertical-align: top;\n",
       "    }\n",
       "</style>\n",
       "<table border=\"1\" class=\"dataframe\">\n",
       "  <thead>\n",
       "    <tr style=\"text-align: right;\">\n",
       "      <th></th>\n",
       "      <th>admit</th>\n",
       "      <th>gre</th>\n",
       "      <th>gpa</th>\n",
       "      <th>prestige</th>\n",
       "    </tr>\n",
       "  </thead>\n",
       "  <tbody>\n",
       "    <tr>\n",
       "      <th>0</th>\n",
       "      <td>0</td>\n",
       "      <td>380.0</td>\n",
       "      <td>3.61</td>\n",
       "      <td>3.0</td>\n",
       "    </tr>\n",
       "    <tr>\n",
       "      <th>1</th>\n",
       "      <td>1</td>\n",
       "      <td>660.0</td>\n",
       "      <td>3.67</td>\n",
       "      <td>3.0</td>\n",
       "    </tr>\n",
       "    <tr>\n",
       "      <th>2</th>\n",
       "      <td>1</td>\n",
       "      <td>800.0</td>\n",
       "      <td>4.00</td>\n",
       "      <td>1.0</td>\n",
       "    </tr>\n",
       "  </tbody>\n",
       "</table>\n",
       "</div>"
      ],
      "text/plain": [
       "   admit    gre   gpa  prestige\n",
       "0      0  380.0  3.61       3.0\n",
       "1      1  660.0  3.67       3.0\n",
       "2      1  800.0  4.00       1.0"
      ]
     },
     "execution_count": 73,
     "metadata": {},
     "output_type": "execute_result"
    }
   ],
   "source": [
    "data = pd.read_csv('./admissions.csv')\n",
    "data.head(3)"
   ]
  },
  {
   "cell_type": "code",
   "execution_count": 74,
   "metadata": {},
   "outputs": [
    {
     "data": {
      "text/plain": [
       "admit       0\n",
       "gre         2\n",
       "gpa         2\n",
       "prestige    1\n",
       "dtype: int64"
      ]
     },
     "execution_count": 74,
     "metadata": {},
     "output_type": "execute_result"
    }
   ],
   "source": [
    "# Checking for null values \n",
    "data.isnull().sum()"
   ]
  },
  {
   "cell_type": "code",
   "execution_count": 75,
   "metadata": {
    "collapsed": true
   },
   "outputs": [],
   "source": [
    "# Dropping null values \n",
    "data.dropna(inplace=True)"
   ]
  },
  {
   "cell_type": "code",
   "execution_count": 76,
   "metadata": {
    "collapsed": true
   },
   "outputs": [],
   "source": [
    "# Inflating size of data - artificially increasing signal in data\n",
    "data = data[data.prestige == 1]\n",
    "\n",
    "data = pd.concat([data]*10, axis=0)\n",
    "\n",
    "data.loc[data.admit == 1, 'gpa'] += np.random.random(size=data[data.admit == 1].shape[0])\n",
    "data.loc[data.admit == 0, 'gpa'] -= np.random.random(size=data[data.admit == 0].shape[0])"
   ]
  },
  {
   "cell_type": "markdown",
   "metadata": {},
   "source": [
    "# _Using Linear Regression_\n",
    "- Using Scikit-Learn's Linear Regression class\n",
    "- Predicting the binary indicator `admit` using `gpa`   \n",
    "- Coefficients/intercepts are uninterpretable \n",
    "  - Predictions for 0.6 admitted - can't be 60% admitted \n",
    "  - Predictions for 3.8+ GPAs getting rejected - highly unlikely "
   ]
  },
  {
   "cell_type": "code",
   "execution_count": 79,
   "metadata": {},
   "outputs": [
    {
     "data": {
      "text/plain": [
       "LinearRegression(copy_X=True, fit_intercept=True, n_jobs=1, normalize=False)"
      ]
     },
     "execution_count": 79,
     "metadata": {},
     "output_type": "execute_result"
    }
   ],
   "source": [
    "# Setting X and Y Variables \n",
    "y = data.admit.values\n",
    "X = data[['gpa']].values\n",
    "\n",
    "# Fitting Linear Regression Model \n",
    "linreg = LinearRegression()\n",
    "linreg.fit(X, y)"
   ]
  },
  {
   "cell_type": "code",
   "execution_count": 80,
   "metadata": {},
   "outputs": [
    {
     "data": {
      "image/png": "[encoded data removed]",
      "text/plain": [
       "<matplotlib.figure.Figure at 0x114aee898>"
      ]
     },
     "metadata": {},
     "output_type": "display_data"
    }
   ],
   "source": [
    "# Plotting\n",
    "fig, ax = plt.subplots(figsize=(10,6))\n",
    "\n",
    "# Plot the regression line for admit ~ gpa.\n",
    "x_vals = np.linspace(1.,5.,300)\n",
    "ax.plot(x_vals, linreg.predict(x_vals[:, np.newaxis]),\n",
    "        color='black', alpha=0.7, lw=4)\n",
    "\n",
    "# Do one scatter plot for each type of wine:\n",
    "ax.scatter(data.gpa[data.admit == 0],\n",
    "           data.admit[data.admit == 0],\n",
    "           c=colors['orange'], s=100, alpha=0.7,\n",
    "           label='rejected')\n",
    "\n",
    "ax.scatter(data.gpa[data.admit == 1],\n",
    "           data.admit[data.admit == 1],\n",
    "           c=colors['blue'], s=100, alpha=0.7,\n",
    "           label='admitted')\n",
    "\n",
    "ax.set_ylabel('admitted', fontsize=16)\n",
    "ax.set_xlabel('gpa', fontsize=16)\n",
    "ax.set_title('admittance ~ gpa, prestige=1\\n', fontsize=20)\n",
    "\n",
    "ax.set_xlim([1.5,5])\n",
    "ax.set_ylim(-0.25, 1.25)\n",
    "\n",
    "plt.legend(loc='upper left')\n",
    "plt.show()"
   ]
  },
  {
   "cell_type": "markdown",
   "metadata": {},
   "source": [
    "# _Using Logistic Regression_\n",
    "- Using Scikit-Learn's Logistic Regression class \n",
    "- Predicting binary indicator `admit` using `gpa` "
   ]
  },
  {
   "cell_type": "code",
   "execution_count": 81,
   "metadata": {},
   "outputs": [
    {
     "data": {
      "text/plain": [
       "LogisticRegression(C=1.0, class_weight=None, dual=False, fit_intercept=True,\n",
       "          intercept_scaling=1, max_iter=100, multi_class='ovr', n_jobs=1,\n",
       "          penalty='l2', random_state=None, solver='liblinear', tol=0.0001,\n",
       "          verbose=0, warm_start=False)"
      ]
     },
     "execution_count": 81,
     "metadata": {},
     "output_type": "execute_result"
    }
   ],
   "source": [
    "# Setting X and Y Variables \n",
    "y = data.admit.values\n",
    "X = data[['gpa']].values\n",
    "\n",
    "# Fitting Logistic Regression Model \n",
    "logreg = LogisticRegression()\n",
    "logreg.fit(X, y)"
   ]
  },
  {
   "cell_type": "code",
   "execution_count": 82,
   "metadata": {},
   "outputs": [
    {
     "data": {
      "image/png": "[encoded data removed]",
      "text/plain": [
       "<matplotlib.figure.Figure at 0x114b23ef0>"
      ]
     },
     "metadata": {},
     "output_type": "display_data"
    }
   ],
   "source": [
    "# Plotting\n",
    "fig, ax = plt.subplots(figsize=(10,6))\n",
    "\n",
    "x_vals = np.linspace(-1.,5.,300)\n",
    "y_pp = logreg.predict_proba(x_vals[:, np.newaxis])[:,1]\n",
    "\n",
    "ax.plot(x_vals, y_pp, color='black', alpha=0.7, lw=4)\n",
    "\n",
    "# Create one scatterplot for each type of wine:\n",
    "ax.scatter(data.gpa[data.admit == 0],\n",
    "           data.admit[data.admit == 0],\n",
    "           c=colors['orange'], s=100, alpha=0.7,\n",
    "           label='rejected')\n",
    "\n",
    "ax.scatter(data.gpa[data.admit == 1],\n",
    "           data.admit[data.admit == 1],\n",
    "           c=colors['blue'], s=100, alpha=0.7,\n",
    "           label='admitted')\n",
    "\n",
    "\n",
    "ax.set_ylabel('admitted', fontsize=16)\n",
    "ax.set_xlabel('gpa', fontsize=16)\n",
    "ax.set_title('admittance ~ gpa, prestige=1\\n', fontsize=20)\n",
    "\n",
    "ax.set_xlim([2.,5.])\n",
    "ax.set_ylim([-0.1, 1.1])\n",
    "\n",
    "plt.legend(loc='upper left')\n",
    "plt.show()"
   ]
  },
  {
   "cell_type": "markdown",
   "metadata": {},
   "source": [
    "## _Interpreting Coefficients_\n",
    "- Centering predictor variables sets baseline equal to the mean\n",
    "    - Avergae gpa = 0 \n",
    "- Get probability at different $\\beta$ values via logistic transformation, created as been instantiated as a function below that does the following : \n",
    "    > - Summing the regression\n",
    "    > - Exponentiating the regression sum\n",
    "    > - Taking the odds ratio "
   ]
  },
  {
   "cell_type": "code",
   "execution_count": 68,
   "metadata": {},
   "outputs": [],
   "source": [
    "# Centering coefficients \n",
    "Xc = X - X.mean()\n",
    "\n",
    "# Fitting Logistic Regression\n",
    "logreg = LogisticRegression()\n",
    "logreg.fit(Xc, y)\n",
    "\n",
    "# Creating function for logistic transformation\n",
    "def logistic_transformation(gpa, b0, b1):\n",
    "    regression_sum = b0 + b1*gpa\n",
    "    exponentiated = np.exp(regression_sum)\n",
    "    return exponentiated / (1 + exponentiated)"
   ]
  },
  {
   "cell_type": "markdown",
   "metadata": {},
   "source": [
    "### _Admittance Probabilities_ "
   ]
  },
  {
   "cell_type": "code",
   "execution_count": 69,
   "metadata": {},
   "outputs": [
    {
     "name": "stdout",
     "output_type": "stream",
     "text": [
      "Average GPA Admittance Probability :\n",
      "0.5718876522937244\n"
     ]
    }
   ],
   "source": [
    "# Because predictor variables centered\n",
    "    # average gpa = 0 \n",
    "print('Average GPA Admittance Probability :')\n",
    "print(logistic_transformation(0,logreg.intercept_[0],logreg.coef_[0][0]))"
   ]
  },
  {
   "cell_type": "code",
   "execution_count": 70,
   "metadata": {},
   "outputs": [
    {
     "name": "stdout",
     "output_type": "stream",
     "text": [
      "Below Average GPA Admittance Probability (~3.0):\n",
      "0.17024159694432942\n"
     ]
    }
   ],
   "source": [
    "# Because predictor variables are centered\n",
    "    # average gpa = 0 \n",
    "    # 3.0 GPA = -0.5\n",
    "print('Below Average GPA Admittance Probability (~3.0):')\n",
    "print(logistic_transformation(-.5, logreg.intercept_[0], logreg.coef_[0][0]))"
   ]
  },
  {
   "cell_type": "code",
   "execution_count": 71,
   "metadata": {},
   "outputs": [
    {
     "name": "stdout",
     "output_type": "stream",
     "text": [
      "Above Average GPA Admittance Probability (~3.8):\n",
      "0.8043395333940668\n"
     ]
    }
   ],
   "source": [
    "# Because predictor variables are centered\n",
    "    # average gpa = 0 \n",
    "    # 3.8 GPA = 0.3\n",
    "print('Above Average GPA Admittance Probability (~3.8):')\n",
    "print(logistic_transformation(.3, logreg.intercept_[0], logreg.coef_[0][0]))"
   ]
  }
 ],
 "metadata": {
  "kernelspec": {
   "display_name": "Python [default]",
   "language": "python",
   "name": "python3"
  },
  "language_info": {
   "codemirror_mode": {
    "name": "ipython",
    "version": 3
   },
   "file_extension": ".py",
   "mimetype": "text/x-python",
   "name": "python",
   "nbconvert_exporter": "python",
   "pygments_lexer": "ipython3",
   "version": "3.6.3"
  }
 },
 "nbformat": 4,
 "nbformat_minor": 2
}
